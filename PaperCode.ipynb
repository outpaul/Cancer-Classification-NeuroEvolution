{
 "cells": [
  {
   "cell_type": "code",
   "execution_count": 1,
   "metadata": {},
   "outputs": [],
   "source": [
    "import random\n",
    "import tensorflow as tf\n",
    "import pandas as pd\n",
    "import numpy as np\n",
    "import matplotlib.pyplot as plt\n",
    "from sklearn import preprocessing"
   ]
  },
  {
   "cell_type": "code",
   "execution_count": 2,
   "metadata": {},
   "outputs": [],
   "source": [
    "def makeDNN(numOfLayers, numOfNeurons, activationFunc):\n",
    "    model = tf.keras.models.Sequential()\n",
    "    \n",
    "    model.add(tf.keras.layers.Flatten())\n",
    "    for i in range(numOfLayers):\n",
    "        model.add(tf.keras.layers.Dense(numOfNeurons, activation = activationFunc))\n",
    "        model.add(tf.keras.layers.BatchNormalization())\n",
    "    model.add(tf.keras.layers.Dense(1, activation = 'sigmoid'))\n",
    "    return model"
   ]
  },
  {
   "cell_type": "code",
   "execution_count": 3,
   "metadata": {},
   "outputs": [],
   "source": [
    "random.seed(5)\n",
    "weights = [[10 * random.random() for i in range(len(attribute[0]) - 1)] for j in range(len(attribute[0]))]\n",
    "def embedAttribute(attribute):\n",
    "    attribute = attribute @ np.array(weights)\n",
    "    return attribute"
   ]
  },
  {
   "cell_type": "code",
   "execution_count": 4,
   "metadata": {},
   "outputs": [],
   "source": [
    "from sklearn.datasets import load_breast_cancer"
   ]
  },
  {
   "cell_type": "code",
   "execution_count": 5,
   "metadata": {},
   "outputs": [],
   "source": [
    "data, target = load_breast_cancer(return_X_y = True)"
   ]
  },
  {
   "cell_type": "code",
   "execution_count": 6,
   "metadata": {},
   "outputs": [
    {
     "data": {
      "text/plain": [
       "array([0, 0, 0, 0, 0, 0, 0, 0, 0, 0, 0, 0, 0, 0, 0, 0, 0, 0, 0, 1, 1, 1,\n",
       "       0, 0, 0, 0, 0, 0, 0, 0, 0, 0, 0, 0, 0, 0, 0, 1, 0, 0, 0, 0, 0, 0,\n",
       "       0, 0, 1, 0, 1, 1, 1, 1, 1, 0, 0, 1, 0, 0, 1, 1, 1, 1, 0, 1, 0, 0,\n",
       "       1, 1, 1, 1, 0, 1, 0, 0, 1, 0, 1, 0, 0, 1, 1, 1, 0, 0, 1, 0, 0, 0,\n",
       "       1, 1, 1, 0, 1, 1, 0, 0, 1, 1, 1, 0, 0, 1, 1, 1, 1, 0, 1, 1, 0, 1,\n",
       "       1, 1, 1, 1, 1, 1, 1, 0, 0, 0, 1, 0, 0, 1, 1, 1, 0, 0, 1, 0, 1, 0,\n",
       "       0, 1, 0, 0, 1, 1, 0, 1, 1, 0, 1, 1, 1, 1, 0, 1, 1, 1, 1, 1, 1, 1,\n",
       "       1, 1, 0, 1, 1, 1, 1, 0, 0, 1, 0, 1, 1, 0, 0, 1, 1, 0, 0, 1, 1, 1,\n",
       "       1, 0, 1, 1, 0, 0, 0, 1, 0, 1, 0, 1, 1, 1, 0, 1, 1, 0, 0, 1, 0, 0,\n",
       "       0, 0, 1, 0, 0, 0, 1, 0, 1, 0, 1, 1, 0, 1, 0, 0, 0, 0, 1, 1, 0, 0,\n",
       "       1, 1, 1, 0, 1, 1, 1, 1, 1, 0, 0, 1, 1, 0, 1, 1, 0, 0, 1, 0, 1, 1,\n",
       "       1, 1, 0, 1, 1, 1, 1, 1, 0, 1, 0, 0, 0, 0, 0, 0, 0, 0, 0, 0, 0, 0,\n",
       "       0, 0, 1, 1, 1, 1, 1, 1, 0, 1, 0, 1, 1, 0, 1, 1, 0, 1, 0, 0, 1, 1,\n",
       "       1, 1, 1, 1, 1, 1, 1, 1, 1, 1, 1, 0, 1, 1, 0, 1, 0, 1, 1, 1, 1, 1,\n",
       "       1, 1, 1, 1, 1, 1, 1, 1, 1, 0, 1, 1, 1, 0, 1, 0, 1, 1, 1, 1, 0, 0,\n",
       "       0, 1, 1, 1, 1, 0, 1, 0, 1, 0, 1, 1, 1, 0, 1, 1, 1, 1, 1, 1, 1, 0,\n",
       "       0, 0, 1, 1, 1, 1, 1, 1, 1, 1, 1, 1, 1, 0, 0, 1, 0, 0, 0, 1, 0, 0,\n",
       "       1, 1, 1, 1, 1, 0, 1, 1, 1, 1, 1, 0, 1, 1, 1, 0, 1, 1, 0, 0, 1, 1,\n",
       "       1, 1, 1, 1, 0, 1, 1, 1, 1, 1, 1, 1, 0, 1, 1, 1, 1, 1, 0, 1, 1, 0,\n",
       "       1, 1, 1, 1, 1, 1, 1, 1, 1, 1, 1, 1, 0, 1, 0, 0, 1, 0, 1, 1, 1, 1,\n",
       "       1, 0, 1, 1, 0, 1, 0, 1, 1, 0, 1, 0, 1, 1, 1, 1, 1, 1, 1, 1, 0, 0,\n",
       "       1, 1, 1, 1, 1, 1, 0, 1, 1, 1, 1, 1, 1, 1, 1, 1, 1, 0, 1, 1, 1, 1,\n",
       "       1, 1, 1, 0, 1, 0, 1, 1, 0, 1, 1, 1, 1, 1, 0, 0, 1, 0, 1, 0, 1, 1,\n",
       "       1, 1, 1, 0, 1, 1, 0, 1, 0, 1, 0, 0, 1, 1, 1, 0, 1, 1, 1, 1, 1, 1,\n",
       "       1, 1, 1, 1, 1, 0, 1, 0, 0, 1, 1, 1, 1, 1, 1, 1, 1, 1, 1, 1, 1, 1,\n",
       "       1, 1, 1, 1, 1, 1, 1, 1, 1, 1, 1, 1, 0, 0, 0, 0, 0, 0, 1])"
      ]
     },
     "execution_count": 6,
     "metadata": {},
     "output_type": "execute_result"
    }
   ],
   "source": [
    "target"
   ]
  },
  {
   "cell_type": "code",
   "execution_count": 7,
   "metadata": {},
   "outputs": [
    {
     "data": {
      "text/plain": [
       "array([[1.799e+01, 1.038e+01, 1.228e+02, ..., 2.654e-01, 4.601e-01,\n",
       "        1.189e-01],\n",
       "       [2.057e+01, 1.777e+01, 1.329e+02, ..., 1.860e-01, 2.750e-01,\n",
       "        8.902e-02],\n",
       "       [1.969e+01, 2.125e+01, 1.300e+02, ..., 2.430e-01, 3.613e-01,\n",
       "        8.758e-02],\n",
       "       ...,\n",
       "       [1.660e+01, 2.808e+01, 1.083e+02, ..., 1.418e-01, 2.218e-01,\n",
       "        7.820e-02],\n",
       "       [2.060e+01, 2.933e+01, 1.401e+02, ..., 2.650e-01, 4.087e-01,\n",
       "        1.240e-01],\n",
       "       [7.760e+00, 2.454e+01, 4.792e+01, ..., 0.000e+00, 2.871e-01,\n",
       "        7.039e-02]])"
      ]
     },
     "execution_count": 7,
     "metadata": {},
     "output_type": "execute_result"
    }
   ],
   "source": [
    "data"
   ]
  },
  {
   "cell_type": "code",
   "execution_count": 8,
   "metadata": {},
   "outputs": [],
   "source": [
    "std_scale = preprocessing.StandardScaler().fit(data)\n",
    "data = std_scale.transform(data)"
   ]
  },
  {
   "cell_type": "code",
   "execution_count": 9,
   "metadata": {},
   "outputs": [
    {
     "data": {
      "text/plain": [
       "array([[ 1.09706398, -2.07333501,  1.26993369, ...,  2.29607613,\n",
       "         2.75062224,  1.93701461],\n",
       "       [ 1.82982061, -0.35363241,  1.68595471, ...,  1.0870843 ,\n",
       "        -0.24388967,  0.28118999],\n",
       "       [ 1.57988811,  0.45618695,  1.56650313, ...,  1.95500035,\n",
       "         1.152255  ,  0.20139121],\n",
       "       ...,\n",
       "       [ 0.70228425,  2.0455738 ,  0.67267578, ...,  0.41406869,\n",
       "        -1.10454895, -0.31840916],\n",
       "       [ 1.83834103,  2.33645719,  1.98252415, ...,  2.28998549,\n",
       "         1.91908301,  2.21963528],\n",
       "       [-1.80840125,  1.22179204, -1.81438851, ..., -1.74506282,\n",
       "        -0.04813821, -0.75120669]])"
      ]
     },
     "execution_count": 9,
     "metadata": {},
     "output_type": "execute_result"
    }
   ],
   "source": [
    "data"
   ]
  },
  {
   "cell_type": "code",
   "execution_count": 16,
   "metadata": {},
   "outputs": [],
   "source": [
    "categoricalAttr = np.array([['dog', 2, 'man'],\n",
    "                    ['cat', 1, 'car'],\n",
    "                    ['hen', 0, 'man'],\n",
    "                    ['cat', 3, 'pole'],\n",
    "                    ['hen', 2, 'pole']])\n",
    "continuousAttr = np.array([[0.2],\n",
    "                            [0.53],\n",
    "                            [0.19],\n",
    "                            [0.98],\n",
    "                            [1.0]])"
   ]
  },
  {
   "cell_type": "code",
   "execution_count": 17,
   "metadata": {},
   "outputs": [],
   "source": [
    "categoricalAttr = pd.DataFrame(categoricalAttr)\n",
    "continuousAttr = pd.DataFrame(continuousAttr, columns = [len(categoricalAttr.columns)])"
   ]
  },
  {
   "cell_type": "code",
   "execution_count": 18,
   "metadata": {},
   "outputs": [
    {
     "data": {
      "text/html": [
       "<div>\n",
       "<style scoped>\n",
       "    .dataframe tbody tr th:only-of-type {\n",
       "        vertical-align: middle;\n",
       "    }\n",
       "\n",
       "    .dataframe tbody tr th {\n",
       "        vertical-align: top;\n",
       "    }\n",
       "\n",
       "    .dataframe thead th {\n",
       "        text-align: right;\n",
       "    }\n",
       "</style>\n",
       "<table border=\"1\" class=\"dataframe\">\n",
       "  <thead>\n",
       "    <tr style=\"text-align: right;\">\n",
       "      <th></th>\n",
       "      <th>0</th>\n",
       "      <th>1</th>\n",
       "      <th>2</th>\n",
       "      <th>3</th>\n",
       "    </tr>\n",
       "  </thead>\n",
       "  <tbody>\n",
       "    <tr>\n",
       "      <th>0</th>\n",
       "      <td>dog</td>\n",
       "      <td>2</td>\n",
       "      <td>man</td>\n",
       "      <td>0.20</td>\n",
       "    </tr>\n",
       "    <tr>\n",
       "      <th>1</th>\n",
       "      <td>cat</td>\n",
       "      <td>1</td>\n",
       "      <td>car</td>\n",
       "      <td>0.53</td>\n",
       "    </tr>\n",
       "    <tr>\n",
       "      <th>2</th>\n",
       "      <td>hen</td>\n",
       "      <td>0</td>\n",
       "      <td>man</td>\n",
       "      <td>0.19</td>\n",
       "    </tr>\n",
       "    <tr>\n",
       "      <th>3</th>\n",
       "      <td>cat</td>\n",
       "      <td>3</td>\n",
       "      <td>pole</td>\n",
       "      <td>0.98</td>\n",
       "    </tr>\n",
       "    <tr>\n",
       "      <th>4</th>\n",
       "      <td>hen</td>\n",
       "      <td>2</td>\n",
       "      <td>pole</td>\n",
       "      <td>1.00</td>\n",
       "    </tr>\n",
       "  </tbody>\n",
       "</table>\n",
       "</div>"
      ],
      "text/plain": [
       "     0  1     2     3\n",
       "0  dog  2   man  0.20\n",
       "1  cat  1   car  0.53\n",
       "2  hen  0   man  0.19\n",
       "3  cat  3  pole  0.98\n",
       "4  hen  2  pole  1.00"
      ]
     },
     "execution_count": 18,
     "metadata": {},
     "output_type": "execute_result"
    }
   ],
   "source": [
    "pd.concat([categoricalAttr, continuousAttr], axis = 1)"
   ]
  },
  {
   "cell_type": "code",
   "execution_count": 13,
   "metadata": {},
   "outputs": [],
   "source": [
    "encodedInput = pd.DataFrame()"
   ]
  },
  {
   "cell_type": "code",
   "execution_count": 14,
   "metadata": {
    "scrolled": false
   },
   "outputs": [
    {
     "name": "stdout",
     "output_type": "stream",
     "text": [
      "[1 0 2 0 2]\n",
      "          1         2\n",
      "0  7.951936  9.424503\n",
      "1  6.229017  7.417870\n",
      "2  7.398986  9.223250\n",
      "3  6.229017  7.417870\n",
      "4  7.398986  9.223250\n",
      "[2 1 0 3 2]\n",
      "          3         4         5\n",
      "0  0.290052  4.656227  9.433567\n",
      "1  9.424503  7.398986  9.223250\n",
      "2  6.229017  7.417870  7.951936\n",
      "3  6.489746  9.009005  1.132060\n",
      "4  0.290052  4.656227  9.433567\n",
      "[1 0 1 2 2]\n",
      "          6         7\n",
      "0  7.951936  9.424503\n",
      "1  6.229017  7.417870\n",
      "2  7.951936  9.424503\n",
      "3  7.398986  9.223250\n",
      "4  7.398986  9.223250\n"
     ]
    }
   ],
   "source": [
    "for i in range(len(categoricalAttr.columns)):\n",
    "    labelEncoder = preprocessing.LabelEncoder()\n",
    "    labelTemp = labelEncoder.fit_transform(categoricalAttr.iloc[:,i])\n",
    "    print(labelTemp)\n",
    "    labelTemp = labelTemp.reshape(len(labelTemp), 1)\n",
    "    #Embedding the One Hot Encoded feature\n",
    "    sparseTemp = embedAttribute(tf.keras.utils.to_categorical(labelTemp))\n",
    "    sparseTemp = pd.DataFrame(sparseTemp, columns = [(len(encodedInput.columns) + len(continuousAttr.columns) + i) for i in range(len(sparseTemp[0]))])\n",
    "    print(sparseTemp)\n",
    "    encodedInput = pd.concat([encodedInput, sparseTemp], axis = 1)"
   ]
  },
  {
   "cell_type": "code",
   "execution_count": 15,
   "metadata": {},
   "outputs": [
    {
     "data": {
      "text/html": [
       "<div>\n",
       "<style scoped>\n",
       "    .dataframe tbody tr th:only-of-type {\n",
       "        vertical-align: middle;\n",
       "    }\n",
       "\n",
       "    .dataframe tbody tr th {\n",
       "        vertical-align: top;\n",
       "    }\n",
       "\n",
       "    .dataframe thead th {\n",
       "        text-align: right;\n",
       "    }\n",
       "</style>\n",
       "<table border=\"1\" class=\"dataframe\">\n",
       "  <thead>\n",
       "    <tr style=\"text-align: right;\">\n",
       "      <th></th>\n",
       "      <th>1</th>\n",
       "      <th>2</th>\n",
       "      <th>3</th>\n",
       "      <th>4</th>\n",
       "      <th>5</th>\n",
       "      <th>6</th>\n",
       "      <th>7</th>\n",
       "    </tr>\n",
       "  </thead>\n",
       "  <tbody>\n",
       "    <tr>\n",
       "      <th>0</th>\n",
       "      <td>7.951936</td>\n",
       "      <td>9.424503</td>\n",
       "      <td>0.290052</td>\n",
       "      <td>4.656227</td>\n",
       "      <td>9.433567</td>\n",
       "      <td>7.951936</td>\n",
       "      <td>9.424503</td>\n",
       "    </tr>\n",
       "    <tr>\n",
       "      <th>1</th>\n",
       "      <td>6.229017</td>\n",
       "      <td>7.417870</td>\n",
       "      <td>9.424503</td>\n",
       "      <td>7.398986</td>\n",
       "      <td>9.223250</td>\n",
       "      <td>6.229017</td>\n",
       "      <td>7.417870</td>\n",
       "    </tr>\n",
       "    <tr>\n",
       "      <th>2</th>\n",
       "      <td>7.398986</td>\n",
       "      <td>9.223250</td>\n",
       "      <td>6.229017</td>\n",
       "      <td>7.417870</td>\n",
       "      <td>7.951936</td>\n",
       "      <td>7.951936</td>\n",
       "      <td>9.424503</td>\n",
       "    </tr>\n",
       "    <tr>\n",
       "      <th>3</th>\n",
       "      <td>6.229017</td>\n",
       "      <td>7.417870</td>\n",
       "      <td>6.489746</td>\n",
       "      <td>9.009005</td>\n",
       "      <td>1.132060</td>\n",
       "      <td>7.398986</td>\n",
       "      <td>9.223250</td>\n",
       "    </tr>\n",
       "    <tr>\n",
       "      <th>4</th>\n",
       "      <td>7.398986</td>\n",
       "      <td>9.223250</td>\n",
       "      <td>0.290052</td>\n",
       "      <td>4.656227</td>\n",
       "      <td>9.433567</td>\n",
       "      <td>7.398986</td>\n",
       "      <td>9.223250</td>\n",
       "    </tr>\n",
       "  </tbody>\n",
       "</table>\n",
       "</div>"
      ],
      "text/plain": [
       "          1         2         3         4         5         6         7\n",
       "0  7.951936  9.424503  0.290052  4.656227  9.433567  7.951936  9.424503\n",
       "1  6.229017  7.417870  9.424503  7.398986  9.223250  6.229017  7.417870\n",
       "2  7.398986  9.223250  6.229017  7.417870  7.951936  7.951936  9.424503\n",
       "3  6.229017  7.417870  6.489746  9.009005  1.132060  7.398986  9.223250\n",
       "4  7.398986  9.223250  0.290052  4.656227  9.433567  7.398986  9.223250"
      ]
     },
     "execution_count": 15,
     "metadata": {},
     "output_type": "execute_result"
    }
   ],
   "source": [
    "encodedInput"
   ]
  },
  {
   "cell_type": "code",
   "execution_count": 16,
   "metadata": {},
   "outputs": [],
   "source": [
    "inputData = pd.concat([continuousAttr, encodedInput], axis = 1)"
   ]
  },
  {
   "cell_type": "code",
   "execution_count": 17,
   "metadata": {},
   "outputs": [
    {
     "data": {
      "text/html": [
       "<div>\n",
       "<style scoped>\n",
       "    .dataframe tbody tr th:only-of-type {\n",
       "        vertical-align: middle;\n",
       "    }\n",
       "\n",
       "    .dataframe tbody tr th {\n",
       "        vertical-align: top;\n",
       "    }\n",
       "\n",
       "    .dataframe thead th {\n",
       "        text-align: right;\n",
       "    }\n",
       "</style>\n",
       "<table border=\"1\" class=\"dataframe\">\n",
       "  <thead>\n",
       "    <tr style=\"text-align: right;\">\n",
       "      <th></th>\n",
       "      <th>0</th>\n",
       "      <th>1</th>\n",
       "      <th>2</th>\n",
       "      <th>3</th>\n",
       "      <th>4</th>\n",
       "      <th>5</th>\n",
       "      <th>6</th>\n",
       "      <th>7</th>\n",
       "    </tr>\n",
       "  </thead>\n",
       "  <tbody>\n",
       "    <tr>\n",
       "      <th>0</th>\n",
       "      <td>0.20</td>\n",
       "      <td>7.951936</td>\n",
       "      <td>9.424503</td>\n",
       "      <td>0.290052</td>\n",
       "      <td>4.656227</td>\n",
       "      <td>9.433567</td>\n",
       "      <td>7.951936</td>\n",
       "      <td>9.424503</td>\n",
       "    </tr>\n",
       "    <tr>\n",
       "      <th>1</th>\n",
       "      <td>0.53</td>\n",
       "      <td>6.229017</td>\n",
       "      <td>7.417870</td>\n",
       "      <td>9.424503</td>\n",
       "      <td>7.398986</td>\n",
       "      <td>9.223250</td>\n",
       "      <td>6.229017</td>\n",
       "      <td>7.417870</td>\n",
       "    </tr>\n",
       "    <tr>\n",
       "      <th>2</th>\n",
       "      <td>0.19</td>\n",
       "      <td>7.398986</td>\n",
       "      <td>9.223250</td>\n",
       "      <td>6.229017</td>\n",
       "      <td>7.417870</td>\n",
       "      <td>7.951936</td>\n",
       "      <td>7.951936</td>\n",
       "      <td>9.424503</td>\n",
       "    </tr>\n",
       "    <tr>\n",
       "      <th>3</th>\n",
       "      <td>0.98</td>\n",
       "      <td>6.229017</td>\n",
       "      <td>7.417870</td>\n",
       "      <td>6.489746</td>\n",
       "      <td>9.009005</td>\n",
       "      <td>1.132060</td>\n",
       "      <td>7.398986</td>\n",
       "      <td>9.223250</td>\n",
       "    </tr>\n",
       "    <tr>\n",
       "      <th>4</th>\n",
       "      <td>1.00</td>\n",
       "      <td>7.398986</td>\n",
       "      <td>9.223250</td>\n",
       "      <td>0.290052</td>\n",
       "      <td>4.656227</td>\n",
       "      <td>9.433567</td>\n",
       "      <td>7.398986</td>\n",
       "      <td>9.223250</td>\n",
       "    </tr>\n",
       "  </tbody>\n",
       "</table>\n",
       "</div>"
      ],
      "text/plain": [
       "      0         1         2         3         4         5         6         7\n",
       "0  0.20  7.951936  9.424503  0.290052  4.656227  9.433567  7.951936  9.424503\n",
       "1  0.53  6.229017  7.417870  9.424503  7.398986  9.223250  6.229017  7.417870\n",
       "2  0.19  7.398986  9.223250  6.229017  7.417870  7.951936  7.951936  9.424503\n",
       "3  0.98  6.229017  7.417870  6.489746  9.009005  1.132060  7.398986  9.223250\n",
       "4  1.00  7.398986  9.223250  0.290052  4.656227  9.433567  7.398986  9.223250"
      ]
     },
     "execution_count": 17,
     "metadata": {},
     "output_type": "execute_result"
    }
   ],
   "source": [
    "inputData"
   ]
  },
  {
   "cell_type": "code",
   "execution_count": 16,
   "metadata": {},
   "outputs": [],
   "source": [
    "optimalDNN = makeDNN(5, 16, 'relu')"
   ]
  },
  {
   "cell_type": "code",
   "execution_count": 17,
   "metadata": {},
   "outputs": [],
   "source": [
    "optimalDNN.compile(optimizer = 'adam', loss = 'binary_crossentropy', metrics = ['accuracy'])"
   ]
  },
  {
   "cell_type": "code",
   "execution_count": 18,
   "metadata": {},
   "outputs": [
    {
     "name": "stdout",
     "output_type": "stream",
     "text": [
      "Epoch 1/6\n",
      "569/569 [==============================] - 1s 2ms/step - loss: 0.6260 - acc: 0.6274\n",
      "Epoch 2/6\n",
      "569/569 [==============================] - 0s 107us/step - loss: 0.4722 - acc: 0.8102\n",
      "Epoch 3/6\n",
      "569/569 [==============================] - 0s 95us/step - loss: 0.3206 - acc: 0.9385\n",
      "Epoch 4/6\n",
      "569/569 [==============================] - 0s 103us/step - loss: 0.1847 - acc: 0.9543\n",
      "Epoch 5/6\n",
      "569/569 [==============================] - 0s 122us/step - loss: 0.1103 - acc: 0.9701\n",
      "Epoch 6/6\n",
      "569/569 [==============================] - 0s 118us/step - loss: 0.0785 - acc: 0.9824\n"
     ]
    },
    {
     "data": {
      "text/plain": [
       "<tensorflow.python.keras.callbacks.History at 0x7fc19042cac8>"
      ]
     },
     "execution_count": 18,
     "metadata": {},
     "output_type": "execute_result"
    }
   ],
   "source": [
    "optimalDNN.fit(data, target, epochs = 6)"
   ]
  },
  {
   "cell_type": "code",
   "execution_count": 18,
   "metadata": {},
   "outputs": [
    {
     "data": {
      "text/plain": [
       "array([[0.2       , 7.95193566, 9.42450284, 0.29005228, 4.65622654,\n",
       "        9.43356717, 7.95193566, 9.42450284],\n",
       "       [0.53      , 6.22901695, 7.41786989, 9.42450284, 7.39898575,\n",
       "        9.22324997, 6.22901695, 7.41786989],\n",
       "       [0.19      , 7.39898575, 9.22324997, 6.22901695, 7.41786989,\n",
       "        7.95193566, 7.95193566, 9.42450284],\n",
       "       [0.98      , 6.22901695, 7.41786989, 6.48974553, 9.00900492,\n",
       "        1.13205965, 7.39898575, 9.22324997],\n",
       "       [1.        , 7.39898575, 9.22324997, 0.29005228, 4.65622654,\n",
       "        9.43356717, 7.39898575, 9.22324997]])"
      ]
     },
     "execution_count": 18,
     "metadata": {},
     "output_type": "execute_result"
    }
   ],
   "source": [
    "inputData.values"
   ]
  },
  {
   "cell_type": "code",
   "execution_count": 20,
   "metadata": {},
   "outputs": [],
   "source": [
    "data = tf.keras.utils.normalize(data, axis = 1)"
   ]
  },
  {
   "cell_type": "code",
   "execution_count": 21,
   "metadata": {},
   "outputs": [
    {
     "data": {
      "text/plain": [
       "array([[7.92541486e-03, 4.57286305e-03, 5.40989964e-02, ...,\n",
       "        1.16920795e-04, 2.02695018e-04, 5.23808686e-05],\n",
       "       [8.66575595e-03, 7.48616836e-03, 5.59882822e-02, ...,\n",
       "        7.83583182e-05, 1.15852352e-04, 3.75024596e-05],\n",
       "       [9.36668268e-03, 1.01087865e-02, 6.18419883e-02, ...,\n",
       "        1.15596947e-04, 1.71873157e-04, 4.16624718e-05],\n",
       "       ...,\n",
       "       [1.16438847e-02, 1.96964025e-02, 7.59658259e-02, ...,\n",
       "        9.94640269e-05, 1.55579134e-04, 5.48525170e-05],\n",
       "       [9.23020523e-03, 1.31418408e-02, 6.27743569e-02, ...,\n",
       "        1.18738077e-04, 1.83125480e-04, 5.55604587e-05],\n",
       "       [2.31098880e-02, 7.30820427e-02, 1.42709515e-01, ...,\n",
       "        0.00000000e+00, 8.55006294e-04, 2.09626935e-04]])"
      ]
     },
     "execution_count": 21,
     "metadata": {},
     "output_type": "execute_result"
    }
   ],
   "source": [
    "data"
   ]
  },
  {
   "cell_type": "code",
   "execution_count": null,
   "metadata": {},
   "outputs": [],
   "source": []
  }
 ],
 "metadata": {
  "kernelspec": {
   "display_name": "Python 3",
   "language": "python",
   "name": "python3"
  },
  "language_info": {
   "codemirror_mode": {
    "name": "ipython",
    "version": 3
   },
   "file_extension": ".py",
   "mimetype": "text/x-python",
   "name": "python",
   "nbconvert_exporter": "python",
   "pygments_lexer": "ipython3",
   "version": "3.6.7"
  }
 },
 "nbformat": 4,
 "nbformat_minor": 2
}
